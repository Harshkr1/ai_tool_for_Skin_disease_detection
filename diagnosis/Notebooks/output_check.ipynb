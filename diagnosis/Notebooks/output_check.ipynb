{
 "cells": [
  {
   "cell_type": "code",
   "execution_count": 52,
   "id": "73e9dd45-4188-4656-885f-e62eca052989",
   "metadata": {},
   "outputs": [
    {
     "name": "stdout",
     "output_type": "stream",
     "text": [
      "Loaded pretrained weights for efficientnet-b0\n"
     ]
    },
    {
     "name": "stdin",
     "output_type": "stream",
     "text": [
      "Enter the Image name ISIC_0025450\n"
     ]
    },
    {
     "name": "stdout",
     "output_type": "stream",
     "text": [
      "Predicted: melanoma, Actual: melanoma\n"
     ]
    },
    {
     "data": {
      "text/plain": [
       "'melanoma'"
      ]
     },
     "execution_count": 52,
     "metadata": {},
     "output_type": "execute_result"
    }
   ],
   "source": [
    "import torch\n",
    "from torchvision import transforms\n",
    "from PIL import Image\n",
    "import pandas as pd\n",
    "import torch.nn as nn\n",
    "from efficientnet_pytorch import EfficientNet\n",
    "\n",
    "class PretrainedEfficientNet(nn.Module):\n",
    "    def __init__(self, num_class=7):  # Adjust `num_class` based on your dataset\n",
    "        super(PretrainedEfficientNet, self).__init__()\n",
    "        self.efficientnet = EfficientNet.from_pretrained('efficientnet-b0')  # Use the correct EfficientNet version\n",
    "        self.fc1 = nn.Linear(self.efficientnet._fc.in_features, num_class)\n",
    "\n",
    "    def forward(self, x):\n",
    "        x = self.efficientnet.extract_features(x)\n",
    "        x = nn.functional.adaptive_avg_pool2d(x, (1, 1))\n",
    "        x = x.view(x.size(0), -1)\n",
    "        x = self.fc1(x)\n",
    "        return x\n",
    "\n",
    "\n",
    "# Load the trained model\n",
    "device = torch.device(\"cuda\" if torch.cuda.is_available() else \"cpu\")\n",
    "model_path = \"best_model.pth\"\n",
    "model = PretrainedEfficientNet(num_class=7)  # Replace with your model class\n",
    "model.load_state_dict(torch.load(model_path, map_location=device,weights_only=True))\n",
    "model.eval()\n",
    "model.to(device)\n",
    "\n",
    "# Load the metadata CSV\n",
    "metadata_path =\"HAM10000_metadata.csv\"\n",
    "metadata = pd.read_csv(metadata_path)\n",
    "\n",
    "# Define image transformations\n",
    "input_size = 224  # Replace with your model's input size\n",
    "norm_mean = [0.7630362, 0.5456468, 0.5700442]  # Replace with dataset's mean\n",
    "norm_std = [0.14092818, 0.15261286, 0.16997077]  # Replace with dataset's std\n",
    "transform = transforms.Compose([\n",
    "    transforms.Resize((input_size, input_size)),\n",
    "    transforms.ToTensor(),\n",
    "    transforms.Normalize(norm_mean, norm_std)\n",
    "])\n",
    "\n",
    "# Lesion type dictionary (use the mapping in your dataset)\n",
    "lesion_type_dict = {\n",
    "    'akiec': 'Actinic keratoses',\n",
    "    'bcc': 'Basal cell carcinoma',\n",
    "    'bkl': 'Benign keratosis-like lesions ',    \n",
    "    'df': 'Dermatofibroma',\n",
    "    'nv': 'Melanocytic nevi',\n",
    "    'vasc': 'Vascular lesions',\n",
    "    'mel': 'melanoma'\n",
    "}\n",
    "\n",
    "def predict_image(image_path):\n",
    "    \"\"\"Predicts the class of an input image and compares it with the actual value.\"\"\"\n",
    "    # Load and preprocess the image\n",
    "    image = Image.open(image_path).convert(\"RGB\")\n",
    "    image_tensor = transform(image).unsqueeze(0).to(device)\n",
    "    \n",
    "    # Predict\n",
    "    with torch.no_grad():\n",
    "        output = model(image_tensor)\n",
    "        _, predicted_class = torch.max(output, 1)\n",
    "    \n",
    "    # Map prediction to class name\n",
    "    predicted_class_idx = predicted_class.item()\n",
    "    predicted_class_name = list(lesion_type_dict.values())[predicted_class_idx]\n",
    "    \n",
    "    # Find actual class from metadata\n",
    "    image_id = image_path.split('/')[-1].split('.')[0]\n",
    "    actual_row = metadata[metadata['image_id'] == image_id]\n",
    "    \n",
    "    if not actual_row.empty:\n",
    "        actual_class_code = actual_row['dx'].values[0]\n",
    "        actual_class_name = lesion_type_dict[actual_class_code]\n",
    "        print(f\"Predicted: {predicted_class_name}, Actual: {actual_class_name}\")\n",
    "    else:\n",
    "        print(f\"Image ID {image_id} not found in metadata.\")\n",
    "    \n",
    "    return predicted_class_name\n",
    "\n",
    "# Example usage\n",
    "image_name = input(\"Enter the Image name\")\n",
    "image_path = f\"D:\\Coding playground\\Major Project\\data_set\\HAM10000_images/{image_name}.jpg\"  # Replace with your image path\n",
    "predict_image(image_path)"
   ]
  },
  {
   "cell_type": "code",
   "execution_count": 48,
   "id": "721fe226-2a24-4782-b7ab-40f1f3b109a9",
   "metadata": {},
   "outputs": [
    {
     "name": "stdout",
     "output_type": "stream",
     "text": [
      "Label to index mapping:\n",
      "{'Actinic keratoses': 0, 'Basal cell carcinoma': 1, 'Benign keratosis-like lesions ': 2, 'Dermatofibroma': 3, 'Melanocytic nevi': 4, 'Vascular lesions': 5, 'melanoma': 6}\n"
     ]
    }
   ],
   "source": [
    "print(\"Label to index mapping:\")\n",
    "print({v: k for k, v in enumerate(lesion_type_dict.values())})\n"
   ]
  },
  {
   "cell_type": "code",
   "execution_count": 54,
   "id": "979ef326-1882-4129-a833-96b62ae19444",
   "metadata": {},
   "outputs": [
    {
     "name": "stdout",
     "output_type": "stream",
     "text": [
      "Predicted Class: Actinic keratoses (0)\n",
      "Actual Class: Actinic keratoses\n",
      "Prediction Probabilities: [[9.9998558e-01 7.5395013e-07 1.3354735e-05 4.2877719e-08 3.3035917e-07\n",
      "  4.1658923e-11 2.0714626e-08]]\n"
     ]
    },
    {
     "data": {
      "text/plain": [
       "'Actinic keratoses'"
      ]
     },
     "execution_count": 54,
     "metadata": {},
     "output_type": "execute_result"
    }
   ],
   "source": [
    "def predict_image(image_path):\n",
    "    image = Image.open(image_path).convert(\"RGB\")\n",
    "    image_tensor = transform(image).unsqueeze(0).to(device)\n",
    "    \n",
    "    with torch.no_grad():\n",
    "        output = model(image_tensor)\n",
    "        probabilities = torch.softmax(output, dim=1)\n",
    "        predicted_class = torch.argmax(probabilities, dim=1)\n",
    "    \n",
    "    predicted_class_idx = predicted_class.item()\n",
    "    predicted_class_name = list(lesion_type_dict.values())[predicted_class_idx]\n",
    "    \n",
    "    # Find actual class\n",
    "    image_id = image_path.split('/')[-1].split('.')[0]\n",
    "    actual_row = metadata[metadata['image_id'] == image_id]\n",
    "    if not actual_row.empty:\n",
    "        actual_class_code = actual_row['dx'].values[0]\n",
    "        actual_class_name = lesion_type_dict[actual_class_code]\n",
    "    else:\n",
    "        actual_class_name = \"Unknown\"\n",
    "    \n",
    "    print(f\"Predicted Class: {predicted_class_name} ({predicted_class_idx})\")\n",
    "    print(f\"Actual Class: {actual_class_name}\")\n",
    "    print(f\"Prediction Probabilities: {probabilities.cpu().numpy()}\")\n",
    "    return predicted_class_name\n",
    "predict_image('D:\\Coding playground\\Major Project\\data_set\\HAM10000_images/ISIC_0025790.jpg')"
   ]
  },
  {
   "cell_type": "code",
   "execution_count": 60,
   "id": "e024755a-62b2-4c3b-b820-1ab27be3225c",
   "metadata": {},
   "outputs": [],
   "source": [
    "# another try of prediction demo "
   ]
  },
  {
   "cell_type": "code",
   "execution_count": null,
   "id": "ab524cb8-9fa3-4343-90f5-36f357dae031",
   "metadata": {},
   "outputs": [],
   "source": []
  }
 ],
 "metadata": {
  "kernelspec": {
   "display_name": "Python 3 (ipykernel)",
   "language": "python",
   "name": "python3"
  },
  "language_info": {
   "codemirror_mode": {
    "name": "ipython",
    "version": 3
   },
   "file_extension": ".py",
   "mimetype": "text/x-python",
   "name": "python",
   "nbconvert_exporter": "python",
   "pygments_lexer": "ipython3",
   "version": "3.11.7"
  }
 },
 "nbformat": 4,
 "nbformat_minor": 5
}
